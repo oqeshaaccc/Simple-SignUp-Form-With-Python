{
  "nbformat": 4,
  "nbformat_minor": 0,
  "metadata": {
    "colab": {
      "provenance": [],
      "authorship_tag": "ABX9TyNUax7+RsiQNKUk6lsuAfvQ",
      "include_colab_link": true
    },
    "kernelspec": {
      "name": "python3",
      "display_name": "Python 3"
    },
    "language_info": {
      "name": "python"
    }
  },
  "cells": [
    {
      "cell_type": "markdown",
      "metadata": {
        "id": "view-in-github",
        "colab_type": "text"
      },
      "source": [
        "<a href=\"https://colab.research.google.com/github/oqeshaaccc/simple_signupForm_with_python/blob/main/simple_signupform_python.ipynb\" target=\"_parent\"><img src=\"https://colab.research.google.com/assets/colab-badge.svg\" alt=\"Open In Colab\"/></a>"
      ]
    },
    {
      "cell_type": "code",
      "execution_count": 2,
      "metadata": {
        "colab": {
          "base_uri": "https://localhost:8080/"
        },
        "id": "Gm4BWTf6p7Pj",
        "outputId": "b8aa1703-c311-45dd-e1d8-f248f831811a"
      },
      "outputs": [
        {
          "output_type": "stream",
          "name": "stdout",
          "text": [
            "Enter User Name: reema\n",
            "Enter Password: reemapass\n",
            "Welcome User['reema', 'reemapass']\n"
          ]
        }
      ],
      "source": [
        "#function to check if username and password exist in the users_credentials.txt\n",
        "def usersdictionaryAsAlistOFLists():\n",
        "    listhasusernameandpasswordelemnts = []    \n",
        "    with open('users_credentials.txt','r') as users_credentials_file:    \n",
        "        users_credentials_file.seek(0)\n",
        "        contentOfFileAsAlist = removeNewLine(users_credentials_file.readlines())\n",
        "        for i in contentOfFileAsAlist:\n",
        "            listhasusernameandpasswordelemnts.append(list(i.split(',')))\n",
        "        return listhasusernameandpasswordelemnts\n",
        "    \n",
        "    \n",
        "    \n",
        "def removeNewLine(listOfStringsEndsWithLine):\n",
        "    listOfStringsEndsWithOutLine = []\n",
        "    for i in listOfStringsEndsWithLine:\n",
        "        listOfStringsEndsWithOutLine.append(i.replace('\\n', ''))\n",
        "    return listOfStringsEndsWithOutLine\n",
        "    \n",
        "def login():\n",
        "    username = str(input(\"Enter User Name: \"))\n",
        "    password = str(input(\"Enter Password: \"))\n",
        "    a = check_user(username, password)\n",
        "    if str(a) != '0':\n",
        "        print (\"Welcome User\" + str(a))\n",
        "    else:\n",
        "        print(\"Sorry Wrong Username Or Password, Try Again!\")\n",
        "        login()\n",
        "\n",
        "def sign_Up():\n",
        "    username = str(input(\"Enter User Name: \"))\n",
        "    password = str(input(\"Enter Password: \"))\n",
        "    if(check_username_exist(username) == True):\n",
        "        print (\"Sorry this username is already Used, Choose Another One\")\n",
        "        sign_Up()\n",
        "    else:\n",
        "        with open('users_credentials.txt','a') as users_credentials_file:\n",
        "            users_credentials_file.write(username + \",\" + password + \"\\n\")\n",
        "            print(\"Thank you for signing up, now you can login\")\n",
        "            login()\n",
        "            \n",
        "def check_username_exist(username):\n",
        "    with open('users_credentials.txt','r') as f:\n",
        "        if(username in f.read()):\n",
        "            return True\n",
        "        else:\n",
        "            return False\n",
        "    \n",
        "\n",
        "def check_user(username, password):\n",
        "    theOne=[]\n",
        "    with open('users_credentials.txt','r') as f:\n",
        "        if(username in f.read()):\n",
        "                #print(usersdictionaryAsAlistOFLists())\n",
        "                listoflistofuserandpass = usersdictionaryAsAlistOFLists()\n",
        "                for i in listoflistofuserandpass:\n",
        "                    if username in i and password in i:\n",
        "                        theOne = i\n",
        "                        break\n",
        "                    else:\n",
        "                        continue\n",
        "                if(len(theOne) == 0):\n",
        "                    return '0'\n",
        "                else:\n",
        "                    return theOne\n",
        "        else:\n",
        "            print(\"Sorry User doesn't exist, you should sign Up\")\n",
        "            sign_Up()\n",
        "#Start Here \n",
        "from pathlib import Path\n",
        "\n",
        "path_to_file = 'users_credentials.txt'\n",
        "path = Path(path_to_file)\n",
        "if path.is_file():\n",
        "    login()\n",
        "else:\n",
        "    open('users_credentials.txt','w')\n",
        "    login()\n",
        "\n",
        "\n"
      ]
    }
  ]
}